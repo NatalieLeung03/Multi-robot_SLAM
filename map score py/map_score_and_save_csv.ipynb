{
  "cells": [
    {
      "cell_type": "markdown",
      "metadata": {
        "id": "bLcepuuMfIIl"
      },
      "source": [
        "# Import libraries"
      ]
    },
    {
      "cell_type": "code",
      "execution_count": null,
      "metadata": {
        "id": "61bK5whQJvd0"
      },
      "outputs": [],
      "source": [
        "import cv2\n",
        "import csv\n",
        "import numpy as np\n",
        "import matplotlib.pyplot as plt\n",
        "from matplotlib.patches import Rectangle\n",
        "import PIL\n",
        "from PIL import Image\n",
        "from google.colab.patches import cv2_imshow\n",
        "from dataclasses import dataclass\n",
        "from pathlib import Path\n",
        "import re"
      ]
    },
    {
      "cell_type": "code",
      "execution_count": null,
      "metadata": {
        "colab": {
          "base_uri": "https://localhost:8080/"
        },
        "id": "VgMmMxSzJ9ZN",
        "outputId": "ea89c1f7-559b-48d3-9703-6a725808e6dd"
      },
      "outputs": [
        {
          "output_type": "stream",
          "name": "stdout",
          "text": [
            "Mounted at /content/drive\n"
          ]
        }
      ],
      "source": [
        "from google.colab import drive\n",
        "drive.mount('/content/drive')"
      ]
    },
    {
      "cell_type": "markdown",
      "metadata": {
        "id": "hhUsP2iAe-er"
      },
      "source": [
        "# **Section 1**: Find corners"
      ]
    },
    {
      "cell_type": "code",
      "execution_count": null,
      "metadata": {
        "id": "cHr4B71Shp73"
      },
      "outputs": [],
      "source": [
        "def find_centroids(dst, gray):\n",
        "    ret, dst = cv2.threshold(dst, 0.01 * dst.max(), 255, 0)\n",
        "    dst = np.uint8(dst)\n",
        "\n",
        "    # find centroids\n",
        "    ret, labels, stats, centroids = cv2.connectedComponentsWithStats(dst)\n",
        "    # define the criteria to stop and refine the corners\n",
        "    criteria = (cv2.TERM_CRITERIA_EPS + cv2.TERM_CRITERIA_MAX_ITER, 100,\n",
        "                0.001)\n",
        "    corners = cv2.cornerSubPix(gray,np.float32(centroids[1:]),(5,5),\n",
        "              (-1,-1),criteria)\n",
        "    return corners"
      ]
    },
    {
      "cell_type": "markdown",
      "metadata": {
        "id": "2oQWIfLtjzS4"
      },
      "source": [
        "Change thresholds in cornerHarris\n",
        "\n",
        "5 , 5 is the size of detecting neighborhood block size.\n",
        "Must be odd and not larger than 31\n",
        "\n",
        "0.1 is k : Harris dector free parameter"
      ]
    },
    {
      "cell_type": "code",
      "execution_count": null,
      "metadata": {
        "id": "wxEDxtT5Q14B"
      },
      "outputs": [],
      "source": [
        "def corners_num(map):\n",
        "    dst = cv2.cornerHarris(map,5,5,0.1)\n",
        "    #result is dilated for marking the corners, not important\n",
        "    dst = cv2.dilate(dst,None)\n",
        "    #print (len(dst))\n",
        "    plt.imshow(dst, cmap=\"gray\")\n",
        "    # Get coordinates\n",
        "    corners = find_centroids(dst, map)\n",
        "    #print(corners)\n",
        "    # count corners\n",
        "    int_corners = np.asarray(corners, dtype = int)\n",
        "    #print (\"Num of corners in map: \",len(int_corners))\n",
        "    corner_num = len(int_corners)\n",
        "    return corner_num"
      ]
    },
    {
      "cell_type": "markdown",
      "metadata": {
        "id": "24TzINLrjaKw"
      },
      "source": [
        "Display: Show img(map) with corners marked"
      ]
    },
    {
      "cell_type": "code",
      "execution_count": null,
      "metadata": {
        "id": "umA_y63riPiD"
      },
      "outputs": [],
      "source": [
        "#plt.imshow(map, cmap=\"gray\")\n",
        "#plt.scatter(int_corners[:, 0], int_corners[:, 1])"
      ]
    },
    {
      "cell_type": "markdown",
      "metadata": {
        "id": "jYc_aodVedpZ"
      },
      "source": [
        "# **Section 2**: Find enclosing area"
      ]
    },
    {
      "cell_type": "code",
      "execution_count": null,
      "metadata": {
        "id": "gWq2LkaezjOY"
      },
      "outputs": [],
      "source": [
        "def enclosing_area(map):\n",
        "    # apply thresholding on the gray image to create a binary image\n",
        "    _, mapbin = cv2.threshold(map,127,255,cv2.THRESH_BINARY_INV)\n",
        "    #plt.imshow(mapbin, cmap=\"gray\")\n",
        "    num_labels, labels, stats, centroids = cv2.connectedComponentsWithStats(mapbin, connectivity=8)\n",
        "\n",
        "    #area_count = num_labels -1 #exclude background\n",
        "    #print(centroids)\n",
        "\n",
        "    # apply thresholding on the gray image to create a binary image\n",
        "    ret,thresh = cv2.threshold(map,127,255,0)\n",
        "    #print (\"threshold: \", thresh)\n",
        "    #plt.imshow(thresh, cmap=\"gray\")\n",
        "\n",
        "    # find the contours\n",
        "    contours, _ = cv2.findContours(mapbin,cv2.RETR_TREE,cv2.CHAIN_APPROX_SIMPLE)\n",
        "\n",
        "    # counting number of contours\n",
        "    enclosing_area_num=len(contours)\n",
        "    #print (\"Number of contours: \", enclosing_area_num)\n",
        "\n",
        "    return enclosing_area_num\n"
      ]
    },
    {
      "cell_type": "markdown",
      "source": [
        "Display"
      ],
      "metadata": {
        "id": "l2DNi07VEfmv"
      }
    },
    {
      "cell_type": "markdown",
      "metadata": {
        "id": "PL1tfc9HeYMS"
      },
      "source": [
        "# **Section 3 & 4**: Certainty of cell and explored area"
      ]
    },
    {
      "cell_type": "markdown",
      "metadata": {
        "id": "ZfeCjXC68z6Z"
      },
      "source": [
        "for i in range(100):\n",
        "  print(filtered_intensity[i+500])"
      ]
    },
    {
      "cell_type": "code",
      "execution_count": null,
      "metadata": {
        "id": "AqO6wJ7Z7u22"
      },
      "outputs": [],
      "source": [
        "def accuracy_and_explored(map):\n",
        "    # Convert the image to a NumPy array to access intensity values\n",
        "    intensity = np.array(map)\n",
        "\n",
        "    # Print the intensity values\n",
        "    #print(intensity)\n",
        "    wid = map.shape[1]# fetching the dimensions\n",
        "    hgt = map.shape[0]\n",
        "    #print(size)\n",
        "    # exclude grey\n",
        "    filtered_intensity = intensity[intensity != 205]\n",
        "\n",
        "    #print(filtered_intensity)\n",
        "\n",
        "    newsize = len(filtered_intensity)\n",
        "    #print(newsize)\n",
        "    # calculate score for how certain robot is with the map\n",
        "    # the closer the number is to 0 or 255, the higher the score\n",
        "\n",
        "    #initial array for score\n",
        "    score = np.zeros(newsize)\n",
        "\n",
        "    #for lower than 12\n",
        "    for i in range(newsize):\n",
        "      if (filtered_intensity[i]<205):\n",
        "        score[i] = 100 * (1-(filtered_intensity[i]/205))\n",
        "      else:\n",
        "        score[i] = 100 * (1-(255-filtered_intensity[i])/50)\n",
        "\n",
        "    # find average in score\n",
        "    sum = np.sum(score)\n",
        "    accuracy = sum/7500\n",
        "    #print(accuracy)\n",
        "    return accuracy, newsize"
      ]
    },
    {
      "cell_type": "markdown",
      "source": [
        "# **time**"
      ],
      "metadata": {
        "id": "LK5gpMIyHsLU"
      }
    },
    {
      "cell_type": "code",
      "source": [
        "# Extract timestamps from filenames using regex\n",
        "def extract_timestamp(filename):\n",
        "    match = re.search(r'_(\\d+)_(?:tb3_0|tb3_1|main)\\.png$', filename)\n",
        "    if match:\n",
        "        return int(match.group(1))\n",
        "    else:\n",
        "        return 0\n"
      ],
      "metadata": {
        "id": "NnPyAxTqHrVf"
      },
      "execution_count": null,
      "outputs": []
    },
    {
      "cell_type": "markdown",
      "source": [
        "# **save csv**"
      ],
      "metadata": {
        "id": "qaVMde3MI3vn"
      }
    },
    {
      "cell_type": "code",
      "source": [
        "def save_csv(mapinfos, attempt):\n",
        "  # Save csv\n",
        "  # Define the CSV file name\n",
        "  csv_file = \"/content/drive/MyDrive/FYP_multirobotSLAM/score_csv_new/map_scores_multi\" + attempt + \".csv\"\n",
        "\n",
        "  # Extract field names from mapinfo dataclass\n",
        "  keys = mapinfos[0].__dict__.keys()\n",
        "\n",
        "  # Open the file and write data\n",
        "  with open(csv_file, mode=\"w\", newline=\"\") as file:\n",
        "      writer = csv.DictWriter(file, fieldnames=keys)\n",
        "\n",
        "      # Write the header\n",
        "      writer.writeheader()\n",
        "\n",
        "      # Write the data from mapinfos\n",
        "      for mapinfo_obj in mapinfos:\n",
        "          writer.writerow(mapinfo_obj.__dict__)\n",
        "\n",
        "  print(f\"Map info successfully saved to {csv_file}\")\n"
      ],
      "metadata": {
        "id": "2wK8hXZiI6jR"
      },
      "execution_count": null,
      "outputs": []
    },
    {
      "cell_type": "markdown",
      "source": [
        "# **Main**"
      ],
      "metadata": {
        "id": "-bP9IjfOE9vS"
      }
    },
    {
      "cell_type": "code",
      "source": [
        "map=cv2.imread('/content/drive/MyDrive/FYP_multirobotSLAM/maps/Untitled Diagram.drawio(2).png', cv2.IMREAD_GRAYSCALE)\n",
        "cv2_imshow(map)\n",
        "wid = map.shape[1]# fetching the dimensions\n",
        "hgt = map.shape[0]\n",
        "print(wid, hgt)\n",
        "#score1 = corners_num(map)\n",
        "score2 = enclosing_area(map)\n",
        "score3, score4 = accuracy_and_explored(map)\n",
        "print(score1, score2, score3, score4)"
      ],
      "metadata": {
        "id": "9io1geswPSJd",
        "outputId": "d7f938cf-052c-40bb-e851-7857d8197ad3",
        "colab": {
          "base_uri": "https://localhost:8080/",
          "height": 721
        }
      },
      "execution_count": null,
      "outputs": [
        {
          "output_type": "display_data",
          "data": {
            "text/plain": [
              "<PIL.Image.Image image mode=L size=221x251>"
            ],
            "image/png": "[encoded data removed]",
            "image/jpeg": "[encoded data removed]"
          },
          "metadata": {}
        },
        {
          "output_type": "stream",
          "name": "stdout",
          "text": [
            "221 251\n",
            "22 12 62.315832795075075 55471\n"
          ]
        },
        {
          "output_type": "display_data",
          "data": {
            "text/plain": [
              "<Figure size 640x480 with 1 Axes>"
            ],
            "image/png": "[encoded data removed]"
          },
          "metadata": {}
        }
      ]
    },
    {
      "cell_type": "code",
      "source": [
        "# apply thresholding on the gray image to create a binary image\n",
        "_, mapbin = cv2.threshold(map,127,255,cv2.THRESH_BINARY_INV)\n",
        "#plt.imshow(mapbin, cmap=\"gray\")\n",
        "num_labels, labels, stats, centroids = cv2.connectedComponentsWithStats(mapbin, connectivity=8)\n",
        "\n",
        "#area_count = num_labels -1 #exclude background\n",
        "#print(centroids)\n",
        "\n",
        "# apply thresholding on the gray image to create a binary image\n",
        "ret,thresh = cv2.threshold(map,127,255,0)\n",
        "#print (\"threshold: \", thresh)\n",
        "#plt.imshow(thresh, cmap=\"gray\")\n",
        "\n",
        "# find the contours\n",
        "contours, _ = cv2.findContours(mapbin,cv2.RETR_TREE,cv2.CHAIN_APPROX_SIMPLE)\n",
        "\n",
        "# counting number of contours\n",
        "enclosing_area_num=len(contours)\n",
        "print (\"Number of contours: \", enclosing_area_num)\n",
        "\n",
        "for i in range(enclosing_area_num):\n",
        "  cnt = contours[i]\n",
        "\n",
        "  # compute the bounding rectangle of the contour\n",
        "  x,y,w,h = cv2.boundingRect(cnt)\n",
        "\n",
        "  # draw contour\n",
        "  #map = cv2.drawContours(map,[cnt],0,(0,255,255),2)\n",
        "\n",
        "  # draw the bounding rectangle\n",
        "  #map = cv2.rectangle(map,(x,y),(x+w,y+h),(0,255,0),2)\n",
        "\n",
        "  # display the image\n",
        "  plt.imshow(map, cmap=\"gray\")\n",
        "\n",
        "  #add rectangle\n",
        "  plt.gca().add_patch(Rectangle((x,y),w,h,\n",
        "                      edgecolor='red',\n",
        "                      facecolor='none',\n",
        "                      lw=2))"
      ],
      "metadata": {
        "id": "r2wNxFusvqlx",
        "outputId": "8b45b04b-4b78-4f2e-b5ec-7fa194e90f56",
        "colab": {
          "base_uri": "https://localhost:8080/",
          "height": 452
        }
      },
      "execution_count": null,
      "outputs": [
        {
          "output_type": "stream",
          "name": "stdout",
          "text": [
            "Number of contours:  12\n"
          ]
        },
        {
          "output_type": "display_data",
          "data": {
            "text/plain": [
              "<Figure size 640x480 with 1 Axes>"
            ],
            "image/png": "[encoded data removed]"
          },
          "metadata": {}
        }
      ]
    },
    {
      "cell_type": "markdown",
      "source": [
        "map=cv2.imread('/content/drive/MyDrive/FYP_multirobotSLAM/maps/Untitled Diagram.drawio(2).png', cv2.IMREAD_GRAYSCALE)\n",
        "cv2_imshow(map)\n",
        "wid = map.shape[1]# fetching the dimensions\n",
        "hgt = map.shape[0]\n",
        "print(wid, hgt)\n",
        "score1 = corners_num(map)\n",
        "score2 = enclosing_area(map)\n",
        "score3, score4 = accuracy_and_explored(map)\n",
        "print(score1, score2, score3, score4)"
      ],
      "metadata": {
        "id": "iwjGntOiJH1V"
      }
    },
    {
      "cell_type": "code",
      "source": [
        "for attempts in range(19):\n",
        "  # get the path/directory\n",
        "  folder_dir = '/content/drive/MyDrive/FYP_multirobotSLAM/maps/Experiment/Multi/'\n",
        "  attempt=str(attempts+1)\n",
        "  folder_dir = folder_dir + attempt\n",
        "\n",
        "  # iterate over files in\n",
        "  # that directory\n",
        "  images = Path(folder_dir).glob('*.png')\n",
        "  # init list\n",
        "  mapnames=list()\n",
        "\n",
        "  for image in images:\n",
        "    mapnames.append(str(image))\n",
        "  mapnames.sort()\n",
        "\n",
        "  @dataclass\n",
        "  class mapinfo:\n",
        "      id: int\n",
        "      filename: str\n",
        "      #maptype: str\n",
        "      width: int\n",
        "      height: int\n",
        "      timestep: int\n",
        "      score1: int\n",
        "      score2: int\n",
        "      score3: int\n",
        "      score4: int #explored pixel\n",
        "      total_score: int\n",
        "\n",
        "  # Create objects\n",
        "  mapinfos = [mapinfo(0, 'name', 0, 0, 0, 0, 0, 0, 0, 0) for i in range(len(mapnames))]\n",
        "\n",
        "  # Get the timestamp of the first image\n",
        "  first_timestamp = extract_timestamp(mapnames[0])\n",
        "  print(first_timestamp)\n",
        "  print(\"attempt\"+attempt)\n",
        "  # call functions and save scores\n",
        "  for i in range(len(mapnames)):\n",
        "    map = cv2.imread(mapnames[i], cv2.IMREAD_GRAYSCALE)\n",
        "    #cv2_imshow(map)\n",
        "    wid = map.shape[1]# fetching the dimensions\n",
        "    hgt = map.shape[0]\n",
        "    mapinfos[i].id = i\n",
        "    name=mapnames[i]\n",
        "    mapinfos[i].filename = name\n",
        "    mapinfos[i].maptype = name[-9:-4]\n",
        "    mapinfos[i].width = wid\n",
        "    mapinfos[i].height = hgt\n",
        "    mapinfos[i].timestep = extract_timestamp(mapnames[i]) - first_timestamp\n",
        "    #mapinfos[i].score1 = corners_num(map)\n",
        "    #mapinfos[i].score2 = enclosing_area(map)\n",
        "    mapinfos[i].score3, _ = accuracy_and_explored(map)\n",
        "    #mapinfos[i].total_score = mapinfos[i].score1 + mapinfos[i].score2 + mapinfos[i].score3 + mapinfos[i].score4\n",
        "    #print(mapinfos[i].id, mapinfos[i].score1, mapinfos[i].score2, mapinfos[i].score3, mapinfos[i].score4, mapinfos[i].total_score)\n",
        "\n",
        "  save_csv(mapinfos, attempt)"
      ],
      "metadata": {
        "colab": {
          "base_uri": "https://localhost:8080/"
        },
        "id": "S1XnhsQuE9Jt",
        "outputId": "e7a99d39-a4b3-4eaf-dc96-178afc806f2e"
      },
      "execution_count": null,
      "outputs": [
        {
          "output_type": "stream",
          "name": "stdout",
          "text": [
            "1742300426\n",
            "attempt1\n",
            "Map info successfully saved to /content/drive/MyDrive/FYP_multirobotSLAM/score_csv_new/map_scores_multi1.csv\n",
            "1742300919\n",
            "attempt2\n",
            "Map info successfully saved to /content/drive/MyDrive/FYP_multirobotSLAM/score_csv_new/map_scores_multi2.csv\n",
            "1742301525\n",
            "attempt3\n",
            "Map info successfully saved to /content/drive/MyDrive/FYP_multirobotSLAM/score_csv_new/map_scores_multi3.csv\n",
            "1742302032\n",
            "attempt4\n",
            "Map info successfully saved to /content/drive/MyDrive/FYP_multirobotSLAM/score_csv_new/map_scores_multi4.csv\n",
            "1742302640\n",
            "attempt5\n",
            "Map info successfully saved to /content/drive/MyDrive/FYP_multirobotSLAM/score_csv_new/map_scores_multi5.csv\n",
            "1742309434\n",
            "attempt6\n",
            "Map info successfully saved to /content/drive/MyDrive/FYP_multirobotSLAM/score_csv_new/map_scores_multi6.csv\n",
            "1742310138\n",
            "attempt7\n",
            "Map info successfully saved to /content/drive/MyDrive/FYP_multirobotSLAM/score_csv_new/map_scores_multi7.csv\n",
            "1742310679\n",
            "attempt8\n",
            "Map info successfully saved to /content/drive/MyDrive/FYP_multirobotSLAM/score_csv_new/map_scores_multi8.csv\n",
            "1742311156\n",
            "attempt9\n",
            "Map info successfully saved to /content/drive/MyDrive/FYP_multirobotSLAM/score_csv_new/map_scores_multi9.csv\n",
            "1742311944\n",
            "attempt10\n",
            "Map info successfully saved to /content/drive/MyDrive/FYP_multirobotSLAM/score_csv_new/map_scores_multi10.csv\n",
            "1742316945\n",
            "attempt11\n",
            "Map info successfully saved to /content/drive/MyDrive/FYP_multirobotSLAM/score_csv_new/map_scores_multi11.csv\n",
            "1742317644\n",
            "attempt12\n",
            "Map info successfully saved to /content/drive/MyDrive/FYP_multirobotSLAM/score_csv_new/map_scores_multi12.csv\n",
            "1742319477\n",
            "attempt13\n",
            "Map info successfully saved to /content/drive/MyDrive/FYP_multirobotSLAM/score_csv_new/map_scores_multi13.csv\n",
            "1742319948\n",
            "attempt14\n",
            "Map info successfully saved to /content/drive/MyDrive/FYP_multirobotSLAM/score_csv_new/map_scores_multi14.csv\n",
            "1742320830\n",
            "attempt15\n",
            "Map info successfully saved to /content/drive/MyDrive/FYP_multirobotSLAM/score_csv_new/map_scores_multi15.csv\n",
            "1742321504\n",
            "attempt16\n",
            "Map info successfully saved to /content/drive/MyDrive/FYP_multirobotSLAM/score_csv_new/map_scores_multi16.csv\n",
            "1742322858\n",
            "attempt17\n",
            "Map info successfully saved to /content/drive/MyDrive/FYP_multirobotSLAM/score_csv_new/map_scores_multi17.csv\n",
            "1742323322\n",
            "attempt18\n",
            "Map info successfully saved to /content/drive/MyDrive/FYP_multirobotSLAM/score_csv_new/map_scores_multi18.csv\n",
            "1742323916\n",
            "attempt19\n",
            "Map info successfully saved to /content/drive/MyDrive/FYP_multirobotSLAM/score_csv_new/map_scores_multi19.csv\n"
          ]
        }
      ]
    },
    {
      "cell_type": "code",
      "source": [
        "# Plot\n",
        "# corners\n",
        "#for i in range(len(mapnames)):\n",
        "  #plt.scatter(mapinfos[i].id,mapinfos[i].score1, label = \"Corners\")\n",
        "  #plt.scatter(mapinfos[i].id,mapinfos[i].score2, label = \"Enclosing Area\")\n",
        "  #plt.scatter(mapinfos[i].id,mapinfos[i].score3, label = \"Accuracy\")\n",
        "  #plt.scatter(mapinfos[i].id,mapinfos[i].score4, label = \"Explored Area\")\n",
        "  #plt.scatter(mapinfos[i].id,mapinfos[i].total_score, label = \"Total Score\")"
      ],
      "metadata": {
        "id": "FBz8gQ3zGmHh"
      },
      "execution_count": null,
      "outputs": []
    }
  ],
  "metadata": {
    "colab": {
      "provenance": []
    },
    "kernelspec": {
      "display_name": "Python 3",
      "name": "python3"
    },
    "language_info": {
      "name": "python"
    }
  },
  "nbformat": 4,
  "nbformat_minor": 0
}